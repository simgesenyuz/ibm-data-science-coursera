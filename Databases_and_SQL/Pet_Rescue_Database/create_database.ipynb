{
 "cells": [
  {
   "cell_type": "code",
   "execution_count": 1,
   "id": "8fdcb754",
   "metadata": {},
   "outputs": [],
   "source": [
    "import sqlite3\n",
    "import os\n",
    "import csv\n",
    "import pandas as pd"
   ]
  },
  {
   "cell_type": "markdown",
   "id": "ffc8532a",
   "metadata": {},
   "source": [
    "# Create Database and Tables"
   ]
  },
  {
   "cell_type": "code",
   "execution_count": 2,
   "id": "7c60f21b",
   "metadata": {},
   "outputs": [],
   "source": [
    "connection = sqlite3.connect(\"Pet_Rescue.db\")\n",
    "cursor = connection.cursor()"
   ]
  },
  {
   "cell_type": "code",
   "execution_count": 3,
   "id": "91101339",
   "metadata": {},
   "outputs": [
    {
     "data": {
      "text/plain": [
       "<sqlite3.Cursor at 0x17e1391c0>"
      ]
     },
     "execution_count": 3,
     "metadata": {},
     "output_type": "execute_result"
    }
   ],
   "source": [
    "# Create EMPLOYEES Table  \n",
    "cursor.execute('''CREATE TABLE IF NOT EXISTS PETRESCUE (\n",
    "                            ID INTEGER NOT NULL,\n",
    "                            ANIMAL VARCHAR(20),\n",
    "                            QUANTITY INTEGER,\n",
    "                            COST DECIMAL(6,2),\n",
    "                            RESCUEDATE DATE,\n",
    "                            PRIMARY KEY (ID));''')"
   ]
  },
  {
   "cell_type": "code",
   "execution_count": 4,
   "id": "64645555",
   "metadata": {},
   "outputs": [
    {
     "name": "stdout",
     "output_type": "stream",
     "text": [
      "Table Name: PETRESCUE\n"
     ]
    }
   ],
   "source": [
    "# Check table names\n",
    "cursor.execute(\"SELECT name FROM sqlite_master WHERE type='table';\")\n",
    "\n",
    "tables = cursor.fetchall()\n",
    "\n",
    "for table in tables:\n",
    "    print(f\"Table Name: {table[0]}\")"
   ]
  },
  {
   "cell_type": "code",
   "execution_count": 5,
   "id": "6c2d4616",
   "metadata": {},
   "outputs": [
    {
     "name": "stdout",
     "output_type": "stream",
     "text": [
      "\n",
      "Properties of table: PETRESCUE\n",
      "Column Name: ID, Type: INTEGER, Not Null: 1, Default Value: None, Primary Key: 1\n",
      "Column Name: ANIMAL, Type: VARCHAR(20), Not Null: 0, Default Value: None, Primary Key: 0\n",
      "Column Name: QUANTITY, Type: INTEGER, Not Null: 0, Default Value: None, Primary Key: 0\n",
      "Column Name: COST, Type: DECIMAL(6,2), Not Null: 0, Default Value: None, Primary Key: 0\n",
      "Column Name: RESCUEDATE, Type: DATE, Not Null: 0, Default Value: None, Primary Key: 0\n"
     ]
    }
   ],
   "source": [
    "# Check properties of the tables\n",
    "for table in tables:\n",
    "    table_name = table[0]\n",
    "    print(f\"\\nProperties of table: {table_name}\")\n",
    "    \n",
    "    cursor.execute(f\"PRAGMA table_info({table_name});\")\n",
    "    \n",
    "    columns = cursor.fetchall()\n",
    "    for column in columns:\n",
    "        cid, name, ctype, notnull, dflt_value, pk = column\n",
    "        print(f\"Column Name: {name}, Type: {ctype}, Not Null: {notnull}, Default Value: {dflt_value}, Primary Key: {pk}\")"
   ]
  },
  {
   "cell_type": "markdown",
   "id": "86c7b775",
   "metadata": {},
   "source": [
    "# Insert Data to the Table"
   ]
  },
  {
   "cell_type": "code",
   "execution_count": 6,
   "id": "971adba1",
   "metadata": {},
   "outputs": [
    {
     "data": {
      "text/plain": [
       "<sqlite3.Cursor at 0x17e1391c0>"
      ]
     },
     "execution_count": 6,
     "metadata": {},
     "output_type": "execute_result"
    }
   ],
   "source": [
    "# Insert values into table\n",
    "cursor.execute('''INSERT INTO PETRESCUE VALUES \n",
    "                (1,'Cat',9,450.09,'2018-05-29'), \n",
    "                (2,'Dog',3,666.66,'2018-06-01'), \n",
    "                (3,'Dog',1,100.00,'2018-06-04'), \n",
    "                (4,'Parrot',2,50.00,'2018-06-04'), \n",
    "                (5,'Dog',1,75.75,'2018-06-10'), \n",
    "                (6,'Hamster',6,60.60,'2018-06-11'), \n",
    "                (7,'Cat',1,44.44,'2018-06-11'), \n",
    "                (8,'Goldfish',24,48.48,'2018-06-14'), \n",
    "                (9,'Dog',2,222.22,'2018-06-15');''')"
   ]
  },
  {
   "cell_type": "markdown",
   "id": "73a1710c",
   "metadata": {},
   "source": [
    "# Overview of Data"
   ]
  },
  {
   "cell_type": "code",
   "execution_count": 7,
   "id": "f39982f8",
   "metadata": {},
   "outputs": [
    {
     "data": {
      "text/html": [
       "<div>\n",
       "<style scoped>\n",
       "    .dataframe tbody tr th:only-of-type {\n",
       "        vertical-align: middle;\n",
       "    }\n",
       "\n",
       "    .dataframe tbody tr th {\n",
       "        vertical-align: top;\n",
       "    }\n",
       "\n",
       "    .dataframe thead th {\n",
       "        text-align: right;\n",
       "    }\n",
       "</style>\n",
       "<table border=\"1\" class=\"dataframe\">\n",
       "  <thead>\n",
       "    <tr style=\"text-align: right;\">\n",
       "      <th></th>\n",
       "      <th>ID</th>\n",
       "      <th>ANIMAL</th>\n",
       "      <th>QUANTITY</th>\n",
       "      <th>COST</th>\n",
       "      <th>RESCUEDATE</th>\n",
       "    </tr>\n",
       "  </thead>\n",
       "  <tbody>\n",
       "    <tr>\n",
       "      <th>0</th>\n",
       "      <td>1</td>\n",
       "      <td>Cat</td>\n",
       "      <td>9</td>\n",
       "      <td>450.09</td>\n",
       "      <td>2018-05-29</td>\n",
       "    </tr>\n",
       "    <tr>\n",
       "      <th>1</th>\n",
       "      <td>2</td>\n",
       "      <td>Dog</td>\n",
       "      <td>3</td>\n",
       "      <td>666.66</td>\n",
       "      <td>2018-06-01</td>\n",
       "    </tr>\n",
       "    <tr>\n",
       "      <th>2</th>\n",
       "      <td>3</td>\n",
       "      <td>Dog</td>\n",
       "      <td>1</td>\n",
       "      <td>100.00</td>\n",
       "      <td>2018-06-04</td>\n",
       "    </tr>\n",
       "    <tr>\n",
       "      <th>3</th>\n",
       "      <td>4</td>\n",
       "      <td>Parrot</td>\n",
       "      <td>2</td>\n",
       "      <td>50.00</td>\n",
       "      <td>2018-06-04</td>\n",
       "    </tr>\n",
       "    <tr>\n",
       "      <th>4</th>\n",
       "      <td>5</td>\n",
       "      <td>Dog</td>\n",
       "      <td>1</td>\n",
       "      <td>75.75</td>\n",
       "      <td>2018-06-10</td>\n",
       "    </tr>\n",
       "    <tr>\n",
       "      <th>5</th>\n",
       "      <td>6</td>\n",
       "      <td>Hamster</td>\n",
       "      <td>6</td>\n",
       "      <td>60.60</td>\n",
       "      <td>2018-06-11</td>\n",
       "    </tr>\n",
       "    <tr>\n",
       "      <th>6</th>\n",
       "      <td>7</td>\n",
       "      <td>Cat</td>\n",
       "      <td>1</td>\n",
       "      <td>44.44</td>\n",
       "      <td>2018-06-11</td>\n",
       "    </tr>\n",
       "    <tr>\n",
       "      <th>7</th>\n",
       "      <td>8</td>\n",
       "      <td>Goldfish</td>\n",
       "      <td>24</td>\n",
       "      <td>48.48</td>\n",
       "      <td>2018-06-14</td>\n",
       "    </tr>\n",
       "    <tr>\n",
       "      <th>8</th>\n",
       "      <td>9</td>\n",
       "      <td>Dog</td>\n",
       "      <td>2</td>\n",
       "      <td>222.22</td>\n",
       "      <td>2018-06-15</td>\n",
       "    </tr>\n",
       "  </tbody>\n",
       "</table>\n",
       "</div>"
      ],
      "text/plain": [
       "   ID    ANIMAL  QUANTITY    COST  RESCUEDATE\n",
       "0   1       Cat         9  450.09  2018-05-29\n",
       "1   2       Dog         3  666.66  2018-06-01\n",
       "2   3       Dog         1  100.00  2018-06-04\n",
       "3   4    Parrot         2   50.00  2018-06-04\n",
       "4   5       Dog         1   75.75  2018-06-10\n",
       "5   6   Hamster         6   60.60  2018-06-11\n",
       "6   7       Cat         1   44.44  2018-06-11\n",
       "7   8  Goldfish        24   48.48  2018-06-14\n",
       "8   9       Dog         2  222.22  2018-06-15"
      ]
     },
     "execution_count": 7,
     "metadata": {},
     "output_type": "execute_result"
    }
   ],
   "source": [
    "# Print all of the table (be careful if the table is too large)\n",
    "query = '''SELECT * FROM PETRESCUE;'''\n",
    "df = pd.read_sql_query(query, connection)\n",
    "df"
   ]
  },
  {
   "cell_type": "code",
   "execution_count": 8,
   "id": "3dd44a66",
   "metadata": {},
   "outputs": [],
   "source": [
    "# Commit your changes to save them to the database\n",
    "connection.commit()"
   ]
  },
  {
   "cell_type": "code",
   "execution_count": 9,
   "id": "474ff738",
   "metadata": {},
   "outputs": [],
   "source": [
    "# Close connection\n",
    "cursor.close()\n",
    "connection.close()"
   ]
  }
 ],
 "metadata": {
  "kernelspec": {
   "display_name": "Python 3 (ipykernel)",
   "language": "python",
   "name": "python3"
  },
  "language_info": {
   "codemirror_mode": {
    "name": "ipython",
    "version": 3
   },
   "file_extension": ".py",
   "mimetype": "text/x-python",
   "name": "python",
   "nbconvert_exporter": "python",
   "pygments_lexer": "ipython3",
   "version": "3.11.5"
  }
 },
 "nbformat": 4,
 "nbformat_minor": 5
}
